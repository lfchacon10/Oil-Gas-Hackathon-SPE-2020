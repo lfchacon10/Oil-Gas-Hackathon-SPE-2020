{
 "cells": [
  {
   "cell_type": "markdown",
   "metadata": {},
   "source": [
    "# Desarrollo de preguntas Blind Test"
   ]
  },
  {
   "cell_type": "markdown",
   "metadata": {},
   "source": [
    "**Presentado por:** <br>\n",
    "- Geoc. Juan Camilo Burgos Flórez\n",
    "- Geoc. Luis Fernando Chacón \n",
    "- Geoc. Ing. Carlos Fabián Sánchez Suárez"
   ]
  },
  {
   "cell_type": "markdown",
   "metadata": {},
   "source": [
    "-----"
   ]
  },
  {
   "cell_type": "code",
   "execution_count": 1,
   "metadata": {},
   "outputs": [],
   "source": [
    "# Librerías a importar\n",
    "\n",
    "import sqlite3\n",
    "import pandas as pd\n",
    "import numpy as np\n",
    "import matplotlib.pyplot as plt\n",
    "from sqlalchemy import create_engine"
   ]
  },
  {
   "cell_type": "code",
   "execution_count": 2,
   "metadata": {},
   "outputs": [],
   "source": [
    "# Establece la conexión con la base de datos y trae el archivo con la tabla de datos de producción\n",
    "\n",
    "pd.options.display.float_format = '{:.2f}'.format      # Esta línea ajusta el formato a 2 decimales\n",
    "engine = create_engine(\"sqlite:///HackathonSPE_BT.db\")\n",
    "sqlite_connection = engine.connect()                  \n",
    "\n",
    "cnx = sqlite3.connect('HackathonSPE_BT.db')"
   ]
  },
  {
   "cell_type": "code",
   "execution_count": 3,
   "metadata": {},
   "outputs": [],
   "source": [
    "c = cnx.cursor()\n",
    "c.execute(\"UPDATE TablaProduccionBT SET Campo = REPLACE(Campo, ' ','' )\")\n",
    "cnx.commit()"
   ]
  },
  {
   "cell_type": "markdown",
   "metadata": {},
   "source": [
    "-----"
   ]
  },
  {
   "cell_type": "markdown",
   "metadata": {},
   "source": [
    "<strong> Pregunta 1: </strong> Caudal de producción del campo \"1F D2689F\", Julio 2019"
   ]
  },
  {
   "cell_type": "code",
   "execution_count": 4,
   "metadata": {},
   "outputs": [
    {
     "name": "stdout",
     "output_type": "stream",
     "text": [
      "El caudal de producción de este campo durante Julio del 2019 fue de 155.47 BOPD\n"
     ]
    },
    {
     "data": {
      "text/html": [
       "<div>\n",
       "<style scoped>\n",
       "    .dataframe tbody tr th:only-of-type {\n",
       "        vertical-align: middle;\n",
       "    }\n",
       "\n",
       "    .dataframe tbody tr th {\n",
       "        vertical-align: top;\n",
       "    }\n",
       "\n",
       "    .dataframe thead th {\n",
       "        text-align: right;\n",
       "    }\n",
       "</style>\n",
       "<table border=\"1\" class=\"dataframe\">\n",
       "  <thead>\n",
       "    <tr style=\"text-align: right;\">\n",
       "      <th></th>\n",
       "      <th>Campo</th>\n",
       "      <th>Produccion</th>\n",
       "      <th>Mes</th>\n",
       "      <th>Año</th>\n",
       "      <th>Caudal (BOPD)</th>\n",
       "    </tr>\n",
       "  </thead>\n",
       "  <tbody>\n",
       "    <tr>\n",
       "      <th>0</th>\n",
       "      <td>1fd2689f</td>\n",
       "      <td>4766.24</td>\n",
       "      <td>Julio</td>\n",
       "      <td>2019</td>\n",
       "      <td>153.75</td>\n",
       "    </tr>\n",
       "    <tr>\n",
       "      <th>1</th>\n",
       "      <td>1fd2689f</td>\n",
       "      <td>53.18</td>\n",
       "      <td>Julio</td>\n",
       "      <td>2019</td>\n",
       "      <td>1.72</td>\n",
       "    </tr>\n",
       "  </tbody>\n",
       "</table>\n",
       "</div>"
      ],
      "text/plain": [
       "      Campo  Produccion    Mes   Año  Caudal (BOPD)\n",
       "0  1fd2689f     4766.24  Julio  2019         153.75\n",
       "1  1fd2689f       53.18  Julio  2019           1.72"
      ]
     },
     "execution_count": 4,
     "metadata": {},
     "output_type": "execute_result"
    }
   ],
   "source": [
    "query = \"SELECT Campo, Produccion, Mes, Año FROM TablaProduccionBT\\\n",
    "                WHERE (Campo = '1f-d2689f' OR Campo = '1fd2689f' OR Campo = '1f d2689f') AND Año = 2019 AND Mes = 'Julio'\\\n",
    "                \"\n",
    "\n",
    "prodJulio = pd.read_sql_query(query, cnx)      # Producción en Julio 2019 del campo 1F D2689F\n",
    "prodJulio[\"Caudal (BOPD)\"] = prodJulio[\"Produccion\"] / 31 # Como Julio tiene 31 días se realiza un cálculo para un caudal diario\n",
    "Total = prodJulio[\"Caudal (BOPD)\"].sum()\n",
    "\n",
    "print(\"El caudal de producción de este campo durante Julio del 2019 fue de\", round(Total,2), \"BOPD\")\n",
    "prodJulio"
   ]
  },
  {
   "cell_type": "code",
   "execution_count": 5,
   "metadata": {},
   "outputs": [
    {
     "data": {
      "text/plain": [
       "Text(0.5, 1.0, 'Producción de petróleo en el campo 1F D2689F en el 2019')"
      ]
     },
     "execution_count": 5,
     "metadata": {},
     "output_type": "execute_result"
    },
    {
     "data": {
      "image/png": "[encoded data removed]",
      "text/plain": [
       "<Figure size 432x288 with 1 Axes>"
      ]
     },
     "metadata": {
      "needs_background": "light"
     },
     "output_type": "display_data"
    }
   ],
   "source": [
    "query00 = \"SELECT Campo, sum(Produccion) as Produccion, Mes , Año FROM TablaProduccionBT\\\n",
    "                WHERE (Campo = '1f-d2689f' OR Campo = '1fd2689f' OR Campo = '1f d2689f') AND Año = 2019\\\n",
    "                GROUP BY Campo, Mes\"\n",
    "\n",
    "months = {\"Enero\":1, \"Febrero\":2, \"Marzo\":3, \"Abril\":4, \"Mayo\":5, \"Junio\":6, \"Julio\":7, \"Agosto\":8, \"Septiembre\":9,\n",
    "         \"Octubre\":10, \"Noviembre\":11, \"Diciembre\":12}\n",
    "\n",
    "\n",
    "pf0 =  pd.read_sql_query(query00, cnx).reset_index(drop=True)\n",
    "pf0.index = pf0.index +1\n",
    "pf0[\"Caudal (BOPD)\"] = pf0[\"Produccion\"] / 31   \n",
    "pf0[\"Mes\"] = pf0[\"Mes\"].replace(months)\n",
    "pf0 = pf0.sort_values(by=\"Mes\")\n",
    "\n",
    "\n",
    "plt.figure()\n",
    "plt.plot(pf0[\"Mes\"], pf0[\"Caudal (BOPD)\"])\n",
    "plt.xlabel('Mes')\n",
    "plt.ylabel('Producción en barriles de petróleo')\n",
    "plt.title('Producción de petróleo en el campo 1F D2689F en el 2019')\n"
   ]
  },
  {
   "cell_type": "markdown",
   "metadata": {},
   "source": [
    "<strong> Respuesta: </strong> El campo \"1F D2689F\" produjo 4819.42 Barriles de petróleo durante el mes de julio de 2019; al ser julio un mes con 31 días, su caudal de producción fue de 155.47 Barriles por día (BOPD). Se realizó la gráfica comparativa a lo largo del año con su caudal de producción y se puede ver que en el mes de julio presentó una caida de su producción con respecto a los meses anteriores, y posterior a este mes, se presentaron aumentos. Este mes corresponde con un mínimo local, considerando para el tiempo del año 2019."
   ]
  },
  {
   "cell_type": "markdown",
   "metadata": {},
   "source": [
    "----"
   ]
  },
  {
   "cell_type": "markdown",
   "metadata": {},
   "source": [
    "<strong>Pregunta 2: </strong> Barriles producidos por la operadora \"2FE52430\" en Febrero 2019"
   ]
  },
  {
   "cell_type": "code",
   "execution_count": 6,
   "metadata": {},
   "outputs": [
    {
     "data": {
      "text/html": [
       "<div>\n",
       "<style scoped>\n",
       "    .dataframe tbody tr th:only-of-type {\n",
       "        vertical-align: middle;\n",
       "    }\n",
       "\n",
       "    .dataframe tbody tr th {\n",
       "        vertical-align: top;\n",
       "    }\n",
       "\n",
       "    .dataframe thead th {\n",
       "        text-align: right;\n",
       "    }\n",
       "</style>\n",
       "<table border=\"1\" class=\"dataframe\">\n",
       "  <thead>\n",
       "    <tr style=\"text-align: right;\">\n",
       "      <th></th>\n",
       "      <th>Operadora</th>\n",
       "      <th>Produccion</th>\n",
       "      <th>Mes</th>\n",
       "      <th>Año</th>\n",
       "    </tr>\n",
       "  </thead>\n",
       "  <tbody>\n",
       "    <tr>\n",
       "      <th>0</th>\n",
       "      <td>2fe52430</td>\n",
       "      <td>7452.22</td>\n",
       "      <td>Febrero</td>\n",
       "      <td>2019</td>\n",
       "    </tr>\n",
       "  </tbody>\n",
       "</table>\n",
       "</div>"
      ],
      "text/plain": [
       "  Operadora  Produccion      Mes   Año\n",
       "0  2fe52430     7452.22  Febrero  2019"
      ]
     },
     "execution_count": 6,
     "metadata": {},
     "output_type": "execute_result"
    }
   ],
   "source": [
    "query1 =\"SELECT Operadora, sum(Produccion) as Produccion, Mes, Año FROM TablaProduccionBT\\\n",
    "                WHERE Operadora = '2fe52430' AND Mes = 'Febrero' AND Año = 2019\\\n",
    "                GROUP BY Operadora\"\n",
    "\n",
    "prodFebrero = pd.read_sql_query(query1, cnx)      # Producción de la operadora \"2FE52430\"\n",
    "prodFebrero\n"
   ]
  },
  {
   "cell_type": "code",
   "execution_count": 7,
   "metadata": {},
   "outputs": [
    {
     "data": {
      "text/plain": [
       "Text(0.5, 1.0, 'Producción de petróleo la operadora 2FE52430 en el 2019')"
      ]
     },
     "execution_count": 7,
     "metadata": {},
     "output_type": "execute_result"
    },
    {
     "data": {
      "image/png": "[encoded data removed]",
      "text/plain": [
       "<Figure size 432x288 with 1 Axes>"
      ]
     },
     "metadata": {
      "needs_background": "light"
     },
     "output_type": "display_data"
    }
   ],
   "source": [
    "query11 = \"SELECT Operadora, sum(Produccion) as Produccion, Mes, Año FROM TablaProduccionBT\\\n",
    "                WHERE Operadora = '2fe52430' AND Año = 2019\\\n",
    "                GROUP BY Mes\"\n",
    "\n",
    "prodFebrero1 = pd.read_sql_query(query11, cnx)      # Producción de la operadora \"2FE52430\"\n",
    "\n",
    "months = {\"Enero\":1, \"Febrero\":2, \"Marzo\":3, \"Abril\":4, \"Mayo\":5, \"Junio\":6, \"Julio\":7, \"Agosto\":8, \"Septiembre\":9,\n",
    "         \"Octubre\":10, \"Noviembre\":11, \"Diciembre\":12}\n",
    "\n",
    "pf1 =  pd.read_sql_query(query11, cnx).reset_index(drop=True)\n",
    "pf1.index = pf1.index +1\n",
    "pf1[\"Mes\"] = pf1[\"Mes\"].replace(months)\n",
    "pf1 = pf1.sort_values(by=\"Mes\")\n",
    "\n",
    "\n",
    "plt.figure()\n",
    "plt.plot(pf1[\"Mes\"], pf1[\"Produccion\"])\n",
    "plt.xlabel('Mes')\n",
    "plt.ylabel('Producción en barriles de petróleo')\n",
    "plt.title('Producción de petróleo la operadora 2FE52430 en el 2019')"
   ]
  },
  {
   "cell_type": "markdown",
   "metadata": {},
   "source": [
    "<strong>Respuesta: </strong> Esta operadora produce de múltiples campos, la producción que se muestra corresponde con el acumulado de todos los campos en que se reportó producción. A modo de comparación se graficó la producción de esta empresa durante el año 2019, se observa que para el mes de febrero produjo 7542,22 barriles "
   ]
  },
  {
   "cell_type": "markdown",
   "metadata": {},
   "source": [
    "-----"
   ]
  },
  {
   "cell_type": "markdown",
   "metadata": {},
   "source": [
    "<strong>Pregunta 3: </strong> Indique la producción departamental en barriles en el año 2018"
   ]
  },
  {
   "cell_type": "code",
   "execution_count": 8,
   "metadata": {},
   "outputs": [
    {
     "data": {
      "text/html": [
       "<div>\n",
       "<style scoped>\n",
       "    .dataframe tbody tr th:only-of-type {\n",
       "        vertical-align: middle;\n",
       "    }\n",
       "\n",
       "    .dataframe tbody tr th {\n",
       "        vertical-align: top;\n",
       "    }\n",
       "\n",
       "    .dataframe thead th {\n",
       "        text-align: right;\n",
       "    }\n",
       "</style>\n",
       "<table border=\"1\" class=\"dataframe\">\n",
       "  <thead>\n",
       "    <tr style=\"text-align: right;\">\n",
       "      <th></th>\n",
       "      <th>Departamento</th>\n",
       "      <th>Produccion</th>\n",
       "      <th>Año</th>\n",
       "    </tr>\n",
       "  </thead>\n",
       "  <tbody>\n",
       "    <tr>\n",
       "      <th>0</th>\n",
       "      <td>cf33cb8a</td>\n",
       "      <td>623608.43</td>\n",
       "      <td>2018</td>\n",
       "    </tr>\n",
       "    <tr>\n",
       "      <th>1</th>\n",
       "      <td>f7fd2c4f</td>\n",
       "      <td>126069.17</td>\n",
       "      <td>2018</td>\n",
       "    </tr>\n",
       "    <tr>\n",
       "      <th>2</th>\n",
       "      <td>0fa93c9b</td>\n",
       "      <td>98767.67</td>\n",
       "      <td>2018</td>\n",
       "    </tr>\n",
       "  </tbody>\n",
       "</table>\n",
       "</div>"
      ],
      "text/plain": [
       "  Departamento  Produccion   Año\n",
       "0     cf33cb8a   623608.43  2018\n",
       "1     f7fd2c4f   126069.17  2018\n",
       "2     0fa93c9b    98767.67  2018"
      ]
     },
     "execution_count": 8,
     "metadata": {},
     "output_type": "execute_result"
    },
    {
     "data": {
      "image/png": "[encoded data removed]",
      "text/plain": [
       "<Figure size 720x360 with 1 Axes>"
      ]
     },
     "metadata": {
      "needs_background": "light"
     },
     "output_type": "display_data"
    }
   ],
   "source": [
    "query2 =\"SELECT Departamento, sum(Produccion) as Produccion, Año FROM TablaProduccionBT\\\n",
    "            WHERE Año = 2018\\\n",
    "            GROUP BY Departamento\\\n",
    "            ORDER BY Produccion DESC\"\n",
    "\n",
    "prodDepto = pd.read_sql_query(query2, cnx)      # La producción departamental en barriles en el año 2018\n",
    "\n",
    "plt.figure(figsize=(10,5))\n",
    "plt.barh(prodDepto[\"Departamento\"], prodDepto[\"Produccion\"], color ='grey')\n",
    "plt.ylabel('Departamento')\n",
    "plt.xlabel('Producción de barriles de petróleo ')\n",
    "plt.title('Producción departamental en barriles en el año 2018')\n",
    "prodDepto   "
   ]
  },
  {
   "cell_type": "markdown",
   "metadata": {},
   "source": [
    "<strong>Respuesta: </strong> Se muestran los departamentos ordenados de mayor a menor producción anual reportada para el año 2018. A partir de ello se puede observar que el departamento que registra más producción corresponde al 'cf33cb8a' con más de 6 MMstb en el año 2018."
   ]
  },
  {
   "cell_type": "markdown",
   "metadata": {},
   "source": [
    "-----"
   ]
  },
  {
   "cell_type": "markdown",
   "metadata": {},
   "source": [
    "<strong> Pregunta 4: </strong> ¿Cuáles son los departamentos con producción promedio por campo más variable?"
   ]
  },
  {
   "cell_type": "code",
   "execution_count": 9,
   "metadata": {},
   "outputs": [
    {
     "data": {
      "text/html": [
       "<div>\n",
       "<style scoped>\n",
       "    .dataframe tbody tr th:only-of-type {\n",
       "        vertical-align: middle;\n",
       "    }\n",
       "\n",
       "    .dataframe tbody tr th {\n",
       "        vertical-align: top;\n",
       "    }\n",
       "\n",
       "    .dataframe thead th {\n",
       "        text-align: right;\n",
       "    }\n",
       "</style>\n",
       "<table border=\"1\" class=\"dataframe\">\n",
       "  <thead>\n",
       "    <tr style=\"text-align: right;\">\n",
       "      <th></th>\n",
       "      <th>Departamento</th>\n",
       "      <th>Campo</th>\n",
       "      <th>Produccion</th>\n",
       "      <th>Año</th>\n",
       "    </tr>\n",
       "  </thead>\n",
       "  <tbody>\n",
       "    <tr>\n",
       "      <th>0</th>\n",
       "      <td>0fa93c9b</td>\n",
       "      <td>373ebdec</td>\n",
       "      <td>888.39</td>\n",
       "      <td>2017</td>\n",
       "    </tr>\n",
       "    <tr>\n",
       "      <th>1</th>\n",
       "      <td>0fa93c9b</td>\n",
       "      <td>48670499</td>\n",
       "      <td>5131.89</td>\n",
       "      <td>2017</td>\n",
       "    </tr>\n",
       "    <tr>\n",
       "      <th>2</th>\n",
       "      <td>0fa93c9b</td>\n",
       "      <td>e32e23a1</td>\n",
       "      <td>927.68</td>\n",
       "      <td>2017</td>\n",
       "    </tr>\n",
       "    <tr>\n",
       "      <th>3</th>\n",
       "      <td>0fa93c9b</td>\n",
       "      <td>373ebdec</td>\n",
       "      <td>928.53</td>\n",
       "      <td>2018</td>\n",
       "    </tr>\n",
       "    <tr>\n",
       "      <th>4</th>\n",
       "      <td>0fa93c9b</td>\n",
       "      <td>48670499</td>\n",
       "      <td>6650.66</td>\n",
       "      <td>2018</td>\n",
       "    </tr>\n",
       "    <tr>\n",
       "      <th>...</th>\n",
       "      <td>...</td>\n",
       "      <td>...</td>\n",
       "      <td>...</td>\n",
       "      <td>...</td>\n",
       "    </tr>\n",
       "    <tr>\n",
       "      <th>110</th>\n",
       "      <td>f7fd2c4f</td>\n",
       "      <td>7eb34927</td>\n",
       "      <td>106.43</td>\n",
       "      <td>2019</td>\n",
       "    </tr>\n",
       "    <tr>\n",
       "      <th>111</th>\n",
       "      <td>f7fd2c4f</td>\n",
       "      <td>82edafb9</td>\n",
       "      <td>1851.29</td>\n",
       "      <td>2019</td>\n",
       "    </tr>\n",
       "    <tr>\n",
       "      <th>112</th>\n",
       "      <td>f7fd2c4f</td>\n",
       "      <td>8ba362f3</td>\n",
       "      <td>257.92</td>\n",
       "      <td>2019</td>\n",
       "    </tr>\n",
       "    <tr>\n",
       "      <th>113</th>\n",
       "      <td>f7fd2c4f</td>\n",
       "      <td>8dd7c41b</td>\n",
       "      <td>4714.70</td>\n",
       "      <td>2019</td>\n",
       "    </tr>\n",
       "    <tr>\n",
       "      <th>114</th>\n",
       "      <td>f7fd2c4f</td>\n",
       "      <td>c98bd9dd</td>\n",
       "      <td>437.24</td>\n",
       "      <td>2019</td>\n",
       "    </tr>\n",
       "  </tbody>\n",
       "</table>\n",
       "<p>115 rows × 4 columns</p>\n",
       "</div>"
      ],
      "text/plain": [
       "    Departamento     Campo  Produccion   Año\n",
       "0       0fa93c9b  373ebdec      888.39  2017\n",
       "1       0fa93c9b  48670499     5131.89  2017\n",
       "2       0fa93c9b  e32e23a1      927.68  2017\n",
       "3       0fa93c9b  373ebdec      928.53  2018\n",
       "4       0fa93c9b  48670499     6650.66  2018\n",
       "..           ...       ...         ...   ...\n",
       "110     f7fd2c4f  7eb34927      106.43  2019\n",
       "111     f7fd2c4f  82edafb9     1851.29  2019\n",
       "112     f7fd2c4f  8ba362f3      257.92  2019\n",
       "113     f7fd2c4f  8dd7c41b     4714.70  2019\n",
       "114     f7fd2c4f  c98bd9dd      437.24  2019\n",
       "\n",
       "[115 rows x 4 columns]"
      ]
     },
     "execution_count": 9,
     "metadata": {},
     "output_type": "execute_result"
    }
   ],
   "source": [
    "query3= \"SELECT Departamento, Campo, AVG(Produccion) as Produccion, Año FROM TablaProduccionBT\\\n",
    "                GROUP BY Departamento, Año, Campo\"\n",
    "\n",
    "prodCampo = pd.read_sql_query(query3, cnx)      # Producción promedio anual por campo\n",
    "prodCampo['Campo'] = prodCampo['Campo'].replace(['1f-d2689f','1f d2689f'],'1fd2689f')    #Reemplaza el nombre del campo, es el mismo\n",
    "\n",
    "prodCampo"
   ]
  },
  {
   "cell_type": "code",
   "execution_count": 10,
   "metadata": {},
   "outputs": [
    {
     "data": {
      "text/html": [
       "<div>\n",
       "<style scoped>\n",
       "    .dataframe tbody tr th:only-of-type {\n",
       "        vertical-align: middle;\n",
       "    }\n",
       "\n",
       "    .dataframe tbody tr th {\n",
       "        vertical-align: top;\n",
       "    }\n",
       "\n",
       "    .dataframe thead th {\n",
       "        text-align: right;\n",
       "    }\n",
       "</style>\n",
       "<table border=\"1\" class=\"dataframe\">\n",
       "  <thead>\n",
       "    <tr style=\"text-align: right;\">\n",
       "      <th></th>\n",
       "      <th>Departamento</th>\n",
       "      <th>Campo</th>\n",
       "      <th>Variabilidad promedio</th>\n",
       "    </tr>\n",
       "  </thead>\n",
       "  <tbody>\n",
       "    <tr>\n",
       "      <th>0</th>\n",
       "      <td>cf33cb8a</td>\n",
       "      <td>5559f8d7</td>\n",
       "      <td>4271.63</td>\n",
       "    </tr>\n",
       "    <tr>\n",
       "      <th>1</th>\n",
       "      <td>cf33cb8a</td>\n",
       "      <td>124207de</td>\n",
       "      <td>3721.58</td>\n",
       "    </tr>\n",
       "    <tr>\n",
       "      <th>2</th>\n",
       "      <td>cf33cb8a</td>\n",
       "      <td>fd6f6562</td>\n",
       "      <td>3160.06</td>\n",
       "    </tr>\n",
       "    <tr>\n",
       "      <th>3</th>\n",
       "      <td>cf33cb8a</td>\n",
       "      <td>1fd2689f</td>\n",
       "      <td>2685.68</td>\n",
       "    </tr>\n",
       "    <tr>\n",
       "      <th>4</th>\n",
       "      <td>f7fd2c4f</td>\n",
       "      <td>8dd7c41b</td>\n",
       "      <td>2425.93</td>\n",
       "    </tr>\n",
       "    <tr>\n",
       "      <th>5</th>\n",
       "      <td>cf33cb8a</td>\n",
       "      <td>2f614c0b</td>\n",
       "      <td>2321.12</td>\n",
       "    </tr>\n",
       "    <tr>\n",
       "      <th>6</th>\n",
       "      <td>f7fd2c4f</td>\n",
       "      <td>58a0d8ca</td>\n",
       "      <td>1576.64</td>\n",
       "    </tr>\n",
       "    <tr>\n",
       "      <th>7</th>\n",
       "      <td>0fa93c9b</td>\n",
       "      <td>48670499</td>\n",
       "      <td>1518.78</td>\n",
       "    </tr>\n",
       "    <tr>\n",
       "      <th>8</th>\n",
       "      <td>cf33cb8a</td>\n",
       "      <td>876a64fe</td>\n",
       "      <td>1263.14</td>\n",
       "    </tr>\n",
       "    <tr>\n",
       "      <th>9</th>\n",
       "      <td>cf33cb8a</td>\n",
       "      <td>c728bf96</td>\n",
       "      <td>1181.18</td>\n",
       "    </tr>\n",
       "  </tbody>\n",
       "</table>\n",
       "</div>"
      ],
      "text/plain": [
       "  Departamento     Campo  Variabilidad promedio\n",
       "0     cf33cb8a  5559f8d7                4271.63\n",
       "1     cf33cb8a  124207de                3721.58\n",
       "2     cf33cb8a  fd6f6562                3160.06\n",
       "3     cf33cb8a  1fd2689f                2685.68\n",
       "4     f7fd2c4f  8dd7c41b                2425.93\n",
       "5     cf33cb8a  2f614c0b                2321.12\n",
       "6     f7fd2c4f  58a0d8ca                1576.64\n",
       "7     0fa93c9b  48670499                1518.78\n",
       "8     cf33cb8a  876a64fe                1263.14\n",
       "9     cf33cb8a  c728bf96                1181.18"
      ]
     },
     "execution_count": 10,
     "metadata": {},
     "output_type": "execute_result"
    }
   ],
   "source": [
    "#Cálculo de la variabilidad promedio de producción por campo por departamento\n",
    "\n",
    "campos_df= prodCampo.groupby(['Campo', 'Año', 'Departamento']).mean()   # Agrupación y promedio de producción anual\n",
    "produc_anual=[]         # Se crea una lista vacia para agregar despues la diferencia de los promedio por campo\n",
    "\n",
    "for i in range(1, len(campos_df)):                 \n",
    "    if(campos_df.index.values[i-1][0] != campos_df.index.values[i][0]):                     # Se utiliza una condicion para que los campos no se repitan entre si\n",
    "        min_camp= campos_df.loc[campos_df.index.values[i-1][0]]['Produccion'].min()         # Promedio más bajo por campo en tres años\n",
    "        max_camp= campos_df.loc[campos_df.index.values[i-1][0]]['Produccion'].max()         # Promedia más alto por campo en tres años\n",
    "        produc_anual.append([campos_df.index.values[i-1][2], campos_df.index.values[i-1][0], max_camp - min_camp])      # Se agrega la diferencia entre el mayor y menor promedio por campo, entrelazando el resultado al campo y al departamento\n",
    "        product=pd.DataFrame(produc_anual)                                                  # Se crea el Dataframe de la diferencia promedio por campo\n",
    "        product.columns=['Departamento','Campo','Variabilidad promedio'] # Se cambian los nombres de las columnas      \n",
    "        product=product.sort_values(by=['Variabilidad promedio'], ascending=False, ignore_index=True)   # Se ordena el Dataframe en orden descendente de la variabilidad promedio de produccion por campo\n",
    "        \n",
    "product.head(10)     # Top 10 de las mayores variabilidades promedio, para ver todas remover el 10 del paréntesis y correr de nuevo"
   ]
  },
  {
   "cell_type": "code",
   "execution_count": 11,
   "metadata": {},
   "outputs": [
    {
     "data": {
      "text/plain": [
       "Text(0.5, 1.0, 'Promedio de las variabilidades de la producción por cada departamento en el año 2018')"
      ]
     },
     "execution_count": 11,
     "metadata": {},
     "output_type": "execute_result"
    },
    {
     "data": {
      "image/png": "[encoded data removed]",
      "text/plain": [
       "<Figure size 432x288 with 1 Axes>"
      ]
     },
     "metadata": {
      "needs_background": "light"
     },
     "output_type": "display_data"
    }
   ],
   "source": [
    "# Promedios de las variabilidades y representación gráfica\n",
    "\n",
    "pr = product.groupby(\"Departamento\").mean().sort_values(by=\"Variabilidad promedio\", ascending =False).reset_index()\n",
    "\n",
    "plt.figure()\n",
    "plt.barh(pr[\"Departamento\"], pr[\"Variabilidad promedio\"])\n",
    "plt.xlabel('Promedio de las Variabilidades')\n",
    "plt.ylabel('Departamento')\n",
    "plt.title('Promedio de las variabilidades de la producción por cada departamento en el año 2018')"
   ]
  },
  {
   "cell_type": "markdown",
   "metadata": {},
   "source": [
    "<strong>Respuesta: </strong> Para conocer la variabilidad de la producción promedio por campo en cada departamento se procedió por calcular el rango entre los valores máximo y mímimo de la producción reportada por campo y por departamento, entre los tres años en cuestión (2017 a 2019). Con este resultado se construyó la tabla anterior, donde la variabilidad promedio en la producción por campo tiene un mayor valor en el departamento 'cf33cb8a' para el campo '5559f8d7' con un valor de 4271.63 Barriles de petróleo. Este mismo departamento reporta 7 de las 10 mayores variabilidades en los diferentes campos del país."
   ]
  },
  {
   "cell_type": "markdown",
   "metadata": {},
   "source": [
    "-----"
   ]
  },
  {
   "cell_type": "markdown",
   "metadata": {},
   "source": [
    "<strong>Pregunta 5: </strong> ¿Cuál es la tasa de declinación promedio mensual (Arps, hiperbólica, b = 0.5) del campo \"51CBB05D\"?"
   ]
  },
  {
   "cell_type": "code",
   "execution_count": 12,
   "metadata": {},
   "outputs": [
    {
     "name": "stdout",
     "output_type": "stream",
     "text": [
      "La tasa de declinacion promedio mensual del campo 51cbb05d es de: 56.29 barriles por mes\n"
     ]
    },
    {
     "data": {
      "text/html": [
       "<div>\n",
       "<style scoped>\n",
       "    .dataframe tbody tr th:only-of-type {\n",
       "        vertical-align: middle;\n",
       "    }\n",
       "\n",
       "    .dataframe tbody tr th {\n",
       "        vertical-align: top;\n",
       "    }\n",
       "\n",
       "    .dataframe thead th {\n",
       "        text-align: right;\n",
       "    }\n",
       "</style>\n",
       "<table border=\"1\" class=\"dataframe\">\n",
       "  <thead>\n",
       "    <tr style=\"text-align: right;\">\n",
       "      <th></th>\n",
       "      <th>campo</th>\n",
       "      <th>año</th>\n",
       "      <th>mes</th>\n",
       "      <th>produccion mensual</th>\n",
       "      <th>Declinacion mensual</th>\n",
       "    </tr>\n",
       "  </thead>\n",
       "  <tbody>\n",
       "    <tr>\n",
       "      <th>0</th>\n",
       "      <td>51cbb05d</td>\n",
       "      <td>2017</td>\n",
       "      <td>Enero</td>\n",
       "      <td>1871.49</td>\n",
       "      <td>831.77</td>\n",
       "    </tr>\n",
       "    <tr>\n",
       "      <th>1</th>\n",
       "      <td>51cbb05d</td>\n",
       "      <td>2017</td>\n",
       "      <td>Febrero</td>\n",
       "      <td>1412.30</td>\n",
       "      <td>313.85</td>\n",
       "    </tr>\n",
       "    <tr>\n",
       "      <th>2</th>\n",
       "      <td>51cbb05d</td>\n",
       "      <td>2017</td>\n",
       "      <td>Marzo</td>\n",
       "      <td>1003.13</td>\n",
       "      <td>148.61</td>\n",
       "    </tr>\n",
       "    <tr>\n",
       "      <th>3</th>\n",
       "      <td>51cbb05d</td>\n",
       "      <td>2017</td>\n",
       "      <td>Abril</td>\n",
       "      <td>1017.90</td>\n",
       "      <td>113.10</td>\n",
       "    </tr>\n",
       "    <tr>\n",
       "      <th>4</th>\n",
       "      <td>51cbb05d</td>\n",
       "      <td>2017</td>\n",
       "      <td>Mayo</td>\n",
       "      <td>789.85</td>\n",
       "      <td>70.21</td>\n",
       "    </tr>\n",
       "    <tr>\n",
       "      <th>5</th>\n",
       "      <td>51cbb05d</td>\n",
       "      <td>2017</td>\n",
       "      <td>Junio</td>\n",
       "      <td>646.10</td>\n",
       "      <td>47.86</td>\n",
       "    </tr>\n",
       "    <tr>\n",
       "      <th>6</th>\n",
       "      <td>51cbb05d</td>\n",
       "      <td>2017</td>\n",
       "      <td>Julio</td>\n",
       "      <td>978.82</td>\n",
       "      <td>62.15</td>\n",
       "    </tr>\n",
       "    <tr>\n",
       "      <th>7</th>\n",
       "      <td>51cbb05d</td>\n",
       "      <td>2017</td>\n",
       "      <td>Agosto</td>\n",
       "      <td>836.36</td>\n",
       "      <td>46.46</td>\n",
       "    </tr>\n",
       "    <tr>\n",
       "      <th>8</th>\n",
       "      <td>51cbb05d</td>\n",
       "      <td>2017</td>\n",
       "      <td>Septiembre</td>\n",
       "      <td>797.87</td>\n",
       "      <td>39.40</td>\n",
       "    </tr>\n",
       "    <tr>\n",
       "      <th>9</th>\n",
       "      <td>51cbb05d</td>\n",
       "      <td>2017</td>\n",
       "      <td>Octubre</td>\n",
       "      <td>703.38</td>\n",
       "      <td>31.26</td>\n",
       "    </tr>\n",
       "  </tbody>\n",
       "</table>\n",
       "</div>"
      ],
      "text/plain": [
       "      campo   año         mes  produccion mensual  Declinacion mensual\n",
       "0  51cbb05d  2017       Enero             1871.49               831.77\n",
       "1  51cbb05d  2017     Febrero             1412.30               313.85\n",
       "2  51cbb05d  2017       Marzo             1003.13               148.61\n",
       "3  51cbb05d  2017       Abril             1017.90               113.10\n",
       "4  51cbb05d  2017        Mayo              789.85                70.21\n",
       "5  51cbb05d  2017       Junio              646.10                47.86\n",
       "6  51cbb05d  2017       Julio              978.82                62.15\n",
       "7  51cbb05d  2017      Agosto              836.36                46.46\n",
       "8  51cbb05d  2017  Septiembre              797.87                39.40\n",
       "9  51cbb05d  2017     Octubre              703.38                31.26"
      ]
     },
     "execution_count": 12,
     "metadata": {},
     "output_type": "execute_result"
    }
   ],
   "source": [
    "# Cálculo de la declinación promedio mensual con la función hiperbólica\n",
    "\n",
    "df_produccionbt = pd.read_sql_query(\"SELECT * FROM TablaProduccionBT\", cnx, index_col = \"index\")\n",
    "\n",
    "def decl_hiperbolica(df):\n",
    "    campo='51cbb05d'\n",
    "    años=[2017,2018,2019]\n",
    "    meses=['Enero','Febrero','Marzo','Abril','Mayo','Junio','Julio','Agosto','Septiembre','Octubre','Noviembre','Diciembre']\n",
    "    valores=[]\n",
    "    for año in años:\n",
    "        for mes in meses:\n",
    "            valor=df[(df['Campo']==campo) & (df['Año']==año) & (df['Mes']==mes)]['Produccion'].sum()\n",
    "            valores.append([campo,año,mes,valor])\n",
    "        df_año=pd.DataFrame(valores)\n",
    "        df_año.columns=['campo','año','mes','produccion mensual']\n",
    "  \n",
    "    b=0.5\n",
    "    tiempo=np.linspace(1,36,36)            # Tiempo en meses\n",
    "    hiperbolica=[]                         # lista para agregar los valores de declinacion hiperbolica\n",
    "    for t,prod in zip(tiempo, df_año['produccion mensual']):\n",
    "        declinacion=(prod/t)/(1+(1/t)*b*t)**(1/b)     # Fórmula de la declinación Hiperbólica (Arps)\n",
    "        hiperbolica.append(declinacion)\n",
    "\n",
    "    df_año['Declinacion mensual']= hiperbolica\n",
    "    return df_año\n",
    "\n",
    "print('La tasa de declinacion promedio mensual del campo 51cbb05d es de: '\n",
    "      + str(round(decl_hiperbolica(df_produccionbt)['Declinacion mensual'].mean(),2)) + ' barriles por mes')\n",
    "\n",
    "(decl_hiperbolica(df_produccionbt)).head(10) # 10 primeros datos de la declinación, para ver todos remover el 10"
   ]
  },
  {
   "cell_type": "code",
   "execution_count": 13,
   "metadata": {},
   "outputs": [
    {
     "data": {
      "image/png": "[encoded data removed]",
      "text/plain": [
       "<Figure size 864x360 with 2 Axes>"
      ]
     },
     "metadata": {
      "needs_background": "light"
     },
     "output_type": "display_data"
    }
   ],
   "source": [
    "# Gráfica que representa la declinación hiperbólica del campo\n",
    "\n",
    "fig, axs = plt.subplots(1, 2, figsize=(12, 5), sharey=True)\n",
    "axs[0].scatter(np.linspace(1,36,36),decl_hiperbolica(df_produccionbt)['Declinacion mensual'])\n",
    "axs[1].plot(np.linspace(1,36,36),decl_hiperbolica(df_produccionbt)['Declinacion mensual'])\n",
    "axs[0].set_ylabel('Barriles de petróleo')\n",
    "axs[1].set_ylabel('Barriles de petróleo')\n",
    "axs[0].set_xlabel('tiempo en meses')\n",
    "axs[1].set_xlabel('tiempo en meses')\n",
    "fig.suptitle('Declinación hiperbolica del campo 51cbb05d, con un b=0.5')\n",
    "plt.show()"
   ]
  },
  {
   "cell_type": "code",
   "execution_count": 14,
   "metadata": {},
   "outputs": [
    {
     "data": {
      "image/png": "[encoded data removed]",
      "text/plain": [
       "<Figure size 864x360 with 2 Axes>"
      ]
     },
     "metadata": {
      "needs_background": "light"
     },
     "output_type": "display_data"
    }
   ],
   "source": [
    "# Gráfica que representa la declinación hiperbólica del campo en escala logarítmica\n",
    "\n",
    "fig, axs = plt.subplots(1, 2, figsize=(12, 5), sharey=True)\n",
    "axs[0].scatter(np.linspace(1,36,36),decl_hiperbolica(df_produccionbt)['Declinacion mensual'])\n",
    "axs[1].plot(np.linspace(1,36,36),decl_hiperbolica(df_produccionbt)['Declinacion mensual'])\n",
    "axs[0].set_ylabel('log (Barriles de petróleo)')\n",
    "axs[1].set_ylabel('log (Barriles de petróleo)')\n",
    "axs[0].set_xlabel('log (tiempo en meses)')\n",
    "axs[1].set_xlabel('log (tiempo en meses)')\n",
    "fig.suptitle('Declinación hiperbolica del campo 51cbb05d a escala logaritmica, con un b=0.5')\n",
    "plt.xscale('log')\n",
    "plt.yscale('log')\n",
    "plt.show()"
   ]
  },
  {
   "cell_type": "markdown",
   "metadata": {},
   "source": [
    "<strong> Respuesta: </strong> <br>La declinación hiperbólica promedio mensual para el campo '51CBB05D' es de 56.29 barriles por mes, con un exponente de declinación b = 0.5 y con los datos obtenidos. Se utilizó el método de Arps con la ecuación hiperbólica (Fuente: Tesis \"Análisis Moderno de la Declinación de la Producción de Hidrocarburos\" de Alberto Armenta Moreno, 2019). A partir del análisis de esa curva, se puede apreciar que el campo tiene una declinación alta, pues rápidamente adquiere su punto de estabilidad en declinación, al cabo de aproximadamente 5 meses, donde pasa de tener una producción por encima de los 800 barriles de petróleo a menos de 200 barriles en este periodo de tiempo. <br>\n",
    "<br> La gráfica logarítmica se realizó para comprobar que la tendencia se ajustara a una tendencia lineal, se puede ver que, salvo por algunos valores, la gráfica trata de ajustarse a una linea recta en tendencia de pendiente negativa. <br>"
   ]
  },
  {
   "cell_type": "code",
   "execution_count": null,
   "metadata": {},
   "outputs": [],
   "source": []
  }
 ],
 "metadata": {
  "kernelspec": {
   "display_name": "Python 3",
   "language": "python",
   "name": "python3"
  },
  "language_info": {
   "codemirror_mode": {
    "name": "ipython",
    "version": 3
   },
   "file_extension": ".py",
   "mimetype": "text/x-python",
   "name": "python",
   "nbconvert_exporter": "python",
   "pygments_lexer": "ipython3",
   "version": "3.8.3"
  }
 },
 "nbformat": 4,
 "nbformat_minor": 4
}
