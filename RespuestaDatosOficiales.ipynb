{
 "cells": [
  {
   "cell_type": "markdown",
   "metadata": {},
   "source": [
    "# Archivo Respuestas Datos Oficiales"
   ]
  },
  {
   "cell_type": "markdown",
   "metadata": {},
   "source": [
    "**Presentado por:** <br>\n",
    "- Geoc. Juan Camilo Burgos Flórez\n",
    "- Geoc. Luis Fernando Chacón \n",
    "- Geoc. Ing. Carlos Fabián Sánchez Suárez"
   ]
  },
  {
   "cell_type": "markdown",
   "metadata": {},
   "source": [
    "-----"
   ]
  },
  {
   "cell_type": "markdown",
   "metadata": {},
   "source": [
    "## Desarrollo de preguntas sobre datos oficiales\n",
    "\n",
    "<br>A continuación se presentan las respuestas correspondientes a los datos oficiales de la ANH. Se indica la pregunta con su respectivo procedimiento de desarrollo, su gráfica para soportar el resultado y visualización de los datos, y una corta respuesta o justificación en cada una de las preguntas.<br>"
   ]
  },
  {
   "cell_type": "code",
   "execution_count": 1,
   "metadata": {},
   "outputs": [],
   "source": [
    "# Librerías a importar\n",
    "\n",
    "import sqlite3\n",
    "import pandas as pd\n",
    "import numpy as np\n",
    "import matplotlib.pyplot as plt\n",
    "from sqlalchemy import create_engine"
   ]
  },
  {
   "cell_type": "code",
   "execution_count": 2,
   "metadata": {
    "scrolled": true
   },
   "outputs": [],
   "source": [
    "# Establece la conexión con la base de datos y trae el archivo con la tabla de datos de producción\n",
    "\n",
    "pd.options.display.float_format = '{:.2f}'.format      # Esta línea ajusta el formato a 2 decimales\n",
    "engine = create_engine(\"sqlite:///HackathonSPE.db\")\n",
    "sqlite_connection = engine.connect()                  \n",
    "\n",
    "cnx = sqlite3.connect('HackathonSPE.db')"
   ]
  },
  {
   "cell_type": "markdown",
   "metadata": {},
   "source": [
    "-----"
   ]
  },
  {
   "cell_type": "markdown",
   "metadata": {},
   "source": [
    "<strong> PREGUNTA 1. </strong> Indique el top 5 de los campos con mayor porducción de petróleo durante el año 2020"
   ]
  },
  {
   "cell_type": "code",
   "execution_count": 3,
   "metadata": {},
   "outputs": [
    {
     "data": {
      "text/html": [
       "<div>\n",
       "<style scoped>\n",
       "    .dataframe tbody tr th:only-of-type {\n",
       "        vertical-align: middle;\n",
       "    }\n",
       "\n",
       "    .dataframe tbody tr th {\n",
       "        vertical-align: top;\n",
       "    }\n",
       "\n",
       "    .dataframe thead th {\n",
       "        text-align: right;\n",
       "    }\n",
       "</style>\n",
       "<table border=\"1\" class=\"dataframe\">\n",
       "  <thead>\n",
       "    <tr style=\"text-align: right;\">\n",
       "      <th></th>\n",
       "      <th>Campo</th>\n",
       "      <th>ProdTotal2020</th>\n",
       "    </tr>\n",
       "  </thead>\n",
       "  <tbody>\n",
       "    <tr>\n",
       "      <th>1</th>\n",
       "      <td>RUBIALES</td>\n",
       "      <td>857001.07</td>\n",
       "    </tr>\n",
       "    <tr>\n",
       "      <th>2</th>\n",
       "      <td>CASTILLA</td>\n",
       "      <td>537068.14</td>\n",
       "    </tr>\n",
       "    <tr>\n",
       "      <th>3</th>\n",
       "      <td>CHICHIMENE</td>\n",
       "      <td>388023.81</td>\n",
       "    </tr>\n",
       "    <tr>\n",
       "      <th>4</th>\n",
       "      <td>CASTILLA NORTE</td>\n",
       "      <td>380005.77</td>\n",
       "    </tr>\n",
       "    <tr>\n",
       "      <th>5</th>\n",
       "      <td>QUIFA</td>\n",
       "      <td>304783.67</td>\n",
       "    </tr>\n",
       "  </tbody>\n",
       "</table>\n",
       "</div>"
      ],
      "text/plain": [
       "            Campo  ProdTotal2020\n",
       "1        RUBIALES      857001.07\n",
       "2       CASTILLA       537068.14\n",
       "3      CHICHIMENE      388023.81\n",
       "4  CASTILLA NORTE      380005.77\n",
       "5           QUIFA      304783.67"
      ]
     },
     "execution_count": 3,
     "metadata": {},
     "output_type": "execute_result"
    },
    {
     "data": {
      "image/png": "[encoded data removed]",
      "text/plain": [
       "<Figure size 720x360 with 1 Axes>"
      ]
     },
     "metadata": {
      "needs_background": "light"
     },
     "output_type": "display_data"
    }
   ],
   "source": [
    "query = \"SELECT Campo, sum(Produccion) as ProdTotal2020 FROM TablaProduccion \\\n",
    "                        WHERE Año=2020\\\n",
    "                        GROUP BY Campo\\\n",
    "                        ORDER BY ProdTotal2020 DESC \\\n",
    "                        LIMIT 5 \"\n",
    "\n",
    "top5_campos2020 = pd.read_sql_query(query, cnx)\n",
    "top5_campos2020.index = top5_campos2020.index +1\n",
    "\n",
    "plt.figure(figsize=(10,5))\n",
    "plt.bar(top5_campos2020[\"Campo\"], top5_campos2020[\"ProdTotal2020\"])\n",
    "plt.xlabel('Campo')\n",
    "plt.ylabel('Producción en barriles de petróleo (STB)')\n",
    "plt.title('Cantidad de barriles de petróleo producidos por campo durante el 2020')\n",
    "top5_campos2020"
   ]
  },
  {
   "cell_type": "markdown",
   "metadata": {},
   "source": [
    "<strong>Respuesta: </strong> De acuerdo con los resultados podemos ver, en la tabla, el top 5 de los campos que han reportado mayor producción durante el año 2020, donde el que más lo ha hecho ha sido el campo Rubiales con más de 850.000 barriles de petróleo producidos"
   ]
  },
  {
   "cell_type": "markdown",
   "metadata": {},
   "source": [
    "-----"
   ]
  },
  {
   "cell_type": "markdown",
   "metadata": {},
   "source": [
    "<strong>Pregunta 2.</strong> Indique cuántas y cuáles compañias han reportado producción en más de 5 campos en Casanare en el año 2018 "
   ]
  },
  {
   "cell_type": "code",
   "execution_count": 4,
   "metadata": {},
   "outputs": [
    {
     "data": {
      "text/html": [
       "<div>\n",
       "<style scoped>\n",
       "    .dataframe tbody tr th:only-of-type {\n",
       "        vertical-align: middle;\n",
       "    }\n",
       "\n",
       "    .dataframe tbody tr th {\n",
       "        vertical-align: top;\n",
       "    }\n",
       "\n",
       "    .dataframe thead th {\n",
       "        text-align: right;\n",
       "    }\n",
       "</style>\n",
       "<table border=\"1\" class=\"dataframe\">\n",
       "  <thead>\n",
       "    <tr style=\"text-align: right;\">\n",
       "      <th></th>\n",
       "      <th>Operadora</th>\n",
       "      <th>CantCampos</th>\n",
       "    </tr>\n",
       "  </thead>\n",
       "  <tbody>\n",
       "    <tr>\n",
       "      <th>1</th>\n",
       "      <td>PERENCO COLOMBIA LIMITED</td>\n",
       "      <td>34</td>\n",
       "    </tr>\n",
       "    <tr>\n",
       "      <th>2</th>\n",
       "      <td>Frontera Energy Colombia Corp Sucursal Colombia</td>\n",
       "      <td>34</td>\n",
       "    </tr>\n",
       "    <tr>\n",
       "      <th>3</th>\n",
       "      <td>GEOPARK COLOMBIA S.A.S.</td>\n",
       "      <td>20</td>\n",
       "    </tr>\n",
       "    <tr>\n",
       "      <th>4</th>\n",
       "      <td>ECOPETROL S.A.</td>\n",
       "      <td>9</td>\n",
       "    </tr>\n",
       "    <tr>\n",
       "      <th>5</th>\n",
       "      <td>PAREX RESOURCES COLOMBIA LTD. SUCURSAL</td>\n",
       "      <td>7</td>\n",
       "    </tr>\n",
       "    <tr>\n",
       "      <th>6</th>\n",
       "      <td>NEW GRANADA ENERGY CORPORATION SUCURSAL COLOMBIA</td>\n",
       "      <td>6</td>\n",
       "    </tr>\n",
       "    <tr>\n",
       "      <th>7</th>\n",
       "      <td>COLOMBIA ENERGY DEVELOPMENT CO</td>\n",
       "      <td>6</td>\n",
       "    </tr>\n",
       "    <tr>\n",
       "      <th>8</th>\n",
       "      <td>CEPSA COLOMBIA S.A.</td>\n",
       "      <td>6</td>\n",
       "    </tr>\n",
       "  </tbody>\n",
       "</table>\n",
       "</div>"
      ],
      "text/plain": [
       "                                          Operadora  CantCampos\n",
       "1                          PERENCO COLOMBIA LIMITED          34\n",
       "2   Frontera Energy Colombia Corp Sucursal Colombia          34\n",
       "3                           GEOPARK COLOMBIA S.A.S.          20\n",
       "4                                    ECOPETROL S.A.           9\n",
       "5            PAREX RESOURCES COLOMBIA LTD. SUCURSAL           7\n",
       "6  NEW GRANADA ENERGY CORPORATION SUCURSAL COLOMBIA           6\n",
       "7                    COLOMBIA ENERGY DEVELOPMENT CO           6\n",
       "8                               CEPSA COLOMBIA S.A.           6"
      ]
     },
     "execution_count": 4,
     "metadata": {},
     "output_type": "execute_result"
    },
    {
     "data": {
      "image/png": "[encoded data removed]",
      "text/plain": [
       "<Figure size 720x360 with 1 Axes>"
      ]
     },
     "metadata": {
      "needs_background": "light"
     },
     "output_type": "display_data"
    }
   ],
   "source": [
    "query1 =\"SELECT x.Operadora, count(x.Campo) as CantCampos FROM (\\\n",
    "                                            SELECT DISTINCT Operadora, Campo FROM TablaProduccion\\\n",
    "                                                     WHERE Departamento ='CASANARE' AND Año = 2018\\\n",
    "                                                     ORDER BY Operadora) as x\\\n",
    "         GROUP BY x.Operadora HAVING CantCampos > 5\\\n",
    "         ORDER BY CantCampos DESC\"\n",
    "\n",
    "casanare_2018 =  pd.read_sql_query(query1, cnx).reset_index(drop=True)\n",
    "casanare_2018.index = casanare_2018.index +1\n",
    "\n",
    "plt.figure(figsize=(10,5))\n",
    "plt.barh(casanare_2018[\"Operadora\"], casanare_2018[\"CantCampos\"], color='r')\n",
    "plt.xlabel('Cantidad de campos')\n",
    "plt.ylabel('Compañías operadoras')\n",
    "plt.title('Cantidad de campos y compañías con reporte de producción en Casanare para el año 2018')\n",
    "casanare_2018"
   ]
  },
  {
   "cell_type": "markdown",
   "metadata": {},
   "source": [
    "<strong>Respuesta: </strong> De acuerdo con los resultados podemos ver que tan solo 8 de las 52 empresas operadoras (que aparecen en los reportes de producción oficiales) reportaron producción de petróleo de más de 5 campos en Casanare en el año 2018. De estas, se observa que tanto Perenco Colombia Limited como Frontera Energy Colombia, fueron las compañías que más campos trabajaron en el departamento, con un conteo de 34 cada una."
   ]
  },
  {
   "cell_type": "markdown",
   "metadata": {},
   "source": [
    "-----"
   ]
  },
  {
   "cell_type": "markdown",
   "metadata": {},
   "source": [
    "<strong>Pregunta 3:</strong> Indique los 5 contratos con la más alta producción de MMstb en el año 2018"
   ]
  },
  {
   "cell_type": "code",
   "execution_count": 5,
   "metadata": {},
   "outputs": [
    {
     "data": {
      "text/html": [
       "<div>\n",
       "<style scoped>\n",
       "    .dataframe tbody tr th:only-of-type {\n",
       "        vertical-align: middle;\n",
       "    }\n",
       "\n",
       "    .dataframe tbody tr th {\n",
       "        vertical-align: top;\n",
       "    }\n",
       "\n",
       "    .dataframe thead th {\n",
       "        text-align: right;\n",
       "    }\n",
       "</style>\n",
       "<table border=\"1\" class=\"dataframe\">\n",
       "  <thead>\n",
       "    <tr style=\"text-align: right;\">\n",
       "      <th></th>\n",
       "      <th>Contrato</th>\n",
       "      <th>Produccion</th>\n",
       "      <th>Departamento</th>\n",
       "    </tr>\n",
       "  </thead>\n",
       "  <tbody>\n",
       "    <tr>\n",
       "      <th>1</th>\n",
       "      <td>CUBARRAL</td>\n",
       "      <td>2.18</td>\n",
       "      <td>META</td>\n",
       "    </tr>\n",
       "    <tr>\n",
       "      <th>2</th>\n",
       "      <td>RUBIALES</td>\n",
       "      <td>1.43</td>\n",
       "      <td>META</td>\n",
       "    </tr>\n",
       "    <tr>\n",
       "      <th>3</th>\n",
       "      <td>LLA 34</td>\n",
       "      <td>0.73</td>\n",
       "      <td>CASANARE</td>\n",
       "    </tr>\n",
       "    <tr>\n",
       "      <th>4</th>\n",
       "      <td>QUIFA</td>\n",
       "      <td>0.55</td>\n",
       "      <td>META</td>\n",
       "    </tr>\n",
       "    <tr>\n",
       "      <th>5</th>\n",
       "      <td>LA CIRA INFANTAS</td>\n",
       "      <td>0.54</td>\n",
       "      <td>SANTANDER</td>\n",
       "    </tr>\n",
       "  </tbody>\n",
       "</table>\n",
       "</div>"
      ],
      "text/plain": [
       "           Contrato  Produccion Departamento\n",
       "1          CUBARRAL        2.18         META\n",
       "2          RUBIALES        1.43         META\n",
       "3            LLA 34        0.73     CASANARE\n",
       "4             QUIFA        0.55         META\n",
       "5  LA CIRA INFANTAS        0.54    SANTANDER"
      ]
     },
     "execution_count": 5,
     "metadata": {},
     "output_type": "execute_result"
    },
    {
     "data": {
      "image/png": "[encoded data removed]",
      "text/plain": [
       "<Figure size 720x360 with 1 Axes>"
      ]
     },
     "metadata": {
      "needs_background": "light"
     },
     "output_type": "display_data"
    }
   ],
   "source": [
    "query2=\"SELECT Contrato, sum(Produccion)/1000000 as Produccion, Departamento FROM TablaProduccion\\\n",
    "            WHERE Año = 2018\\\n",
    "            GROUP BY Contrato\\\n",
    "            ORDER BY Produccion DESC\\\n",
    "            LIMIT 5\"\n",
    "            \n",
    "altaprod_2018 =  pd.read_sql_query(query2, cnx).reset_index(drop=True)\n",
    "altaprod_2018.index = altaprod_2018.index +1\n",
    "\n",
    "plt.figure(figsize=(10,5))\n",
    "plt.barh(altaprod_2018[\"Contrato\"], altaprod_2018[\"Produccion\"], color ='grey')\n",
    "plt.ylabel('Contrato')\n",
    "plt.xlabel('Producción (millones de barriles de petróleo, MMstb)')\n",
    "plt.title('Contratos con mayor producción de petróleo en el año 2018 (en MMstb)')\n",
    "altaprod_2018   "
   ]
  },
  {
   "cell_type": "markdown",
   "metadata": {},
   "source": [
    "<strong>Respuesta: </strong> Con los resultados anteriormente descritos es posible reconocer los 5 contratos con mayor producción de petróleo (en MMstb) en el año 2018. El contrato Cubarral es aquél que presenta el mayor registro con más de 2 millones de barriles producidos; además, los 4 primeros contratos se celebran en la cuenca de los Llanos Orientales, mientras que el de la Cira Infantas pertenece a la cuenca del Valle Medio del Magdalenda   "
   ]
  },
  {
   "cell_type": "markdown",
   "metadata": {},
   "source": [
    "-----"
   ]
  },
  {
   "cell_type": "markdown",
   "metadata": {},
   "source": [
    "<strong>Pregunta 4:</strong> Ordene de mayor a menor las 10 operadoras con mayor producción en el mes de agosto 2019"
   ]
  },
  {
   "cell_type": "code",
   "execution_count": 6,
   "metadata": {},
   "outputs": [
    {
     "data": {
      "text/html": [
       "<div>\n",
       "<style scoped>\n",
       "    .dataframe tbody tr th:only-of-type {\n",
       "        vertical-align: middle;\n",
       "    }\n",
       "\n",
       "    .dataframe tbody tr th {\n",
       "        vertical-align: top;\n",
       "    }\n",
       "\n",
       "    .dataframe thead th {\n",
       "        text-align: right;\n",
       "    }\n",
       "</style>\n",
       "<table border=\"1\" class=\"dataframe\">\n",
       "  <thead>\n",
       "    <tr style=\"text-align: right;\">\n",
       "      <th></th>\n",
       "      <th>Operadora</th>\n",
       "      <th>Produccion</th>\n",
       "    </tr>\n",
       "  </thead>\n",
       "  <tbody>\n",
       "    <tr>\n",
       "      <th>1</th>\n",
       "      <td>ECOPETROL S.A.</td>\n",
       "      <td>473986.41</td>\n",
       "    </tr>\n",
       "    <tr>\n",
       "      <th>2</th>\n",
       "      <td>Frontera Energy Colombia Corp Sucursal Colombia</td>\n",
       "      <td>81441.68</td>\n",
       "    </tr>\n",
       "    <tr>\n",
       "      <th>3</th>\n",
       "      <td>GEOPARK COLOMBIA S.A.S.</td>\n",
       "      <td>69154.42</td>\n",
       "    </tr>\n",
       "    <tr>\n",
       "      <th>4</th>\n",
       "      <td>OCCIDENTAL DE COLOMBIA LLC</td>\n",
       "      <td>53299.12</td>\n",
       "    </tr>\n",
       "    <tr>\n",
       "      <th>5</th>\n",
       "      <td>EQUION ENERGÍA LIMITED</td>\n",
       "      <td>34950.01</td>\n",
       "    </tr>\n",
       "    <tr>\n",
       "      <th>6</th>\n",
       "      <td>GRAN TIERRA ENERGY COLOMBIA LTD</td>\n",
       "      <td>29555.20</td>\n",
       "    </tr>\n",
       "    <tr>\n",
       "      <th>7</th>\n",
       "      <td>MANSAROVAR ENERGY COLOMBIA LTD</td>\n",
       "      <td>25256.75</td>\n",
       "    </tr>\n",
       "    <tr>\n",
       "      <th>8</th>\n",
       "      <td>HOCOL S.A.</td>\n",
       "      <td>19614.02</td>\n",
       "    </tr>\n",
       "    <tr>\n",
       "      <th>9</th>\n",
       "      <td>PAREX RESOURCES COLOMBIA LTD. SUCURSAL</td>\n",
       "      <td>15727.97</td>\n",
       "    </tr>\n",
       "    <tr>\n",
       "      <th>10</th>\n",
       "      <td>CEPSA COLOMBIA S.A.</td>\n",
       "      <td>12702.09</td>\n",
       "    </tr>\n",
       "  </tbody>\n",
       "</table>\n",
       "</div>"
      ],
      "text/plain": [
       "                                          Operadora  Produccion\n",
       "1                                    ECOPETROL S.A.   473986.41\n",
       "2   Frontera Energy Colombia Corp Sucursal Colombia    81441.68\n",
       "3                           GEOPARK COLOMBIA S.A.S.    69154.42\n",
       "4                        OCCIDENTAL DE COLOMBIA LLC    53299.12\n",
       "5                            EQUION ENERGÍA LIMITED    34950.01\n",
       "6                   GRAN TIERRA ENERGY COLOMBIA LTD    29555.20\n",
       "7                    MANSAROVAR ENERGY COLOMBIA LTD    25256.75\n",
       "8                                        HOCOL S.A.    19614.02\n",
       "9            PAREX RESOURCES COLOMBIA LTD. SUCURSAL    15727.97\n",
       "10                              CEPSA COLOMBIA S.A.    12702.09"
      ]
     },
     "execution_count": 6,
     "metadata": {},
     "output_type": "execute_result"
    },
    {
     "data": {
      "image/png": "[encoded data removed]",
      "text/plain": [
       "<Figure size 720x360 with 1 Axes>"
      ]
     },
     "metadata": {
      "needs_background": "light"
     },
     "output_type": "display_data"
    }
   ],
   "source": [
    "query3 = \" SELECT Operadora, sum(Produccion) as Produccion FROM TablaProduccion\\\n",
    "                    WHERE Año = 2019 AND Mes = 'Agosto'\\\n",
    "                    GROUP BY Operadora\\\n",
    "                    ORDER BY Produccion DESC\\\n",
    "                    LIMIT 10\"\n",
    "\n",
    "operadorastop_2019 =  pd.read_sql_query(query3, cnx).reset_index(drop=True)\n",
    "operadorastop_2019.index = operadorastop_2019.index +1\n",
    "\n",
    "plt.figure(figsize=(10,5))\n",
    "plt.barh(operadorastop_2019[\"Operadora\"], operadorastop_2019[\"Produccion\"], color='green')\n",
    "plt.xlabel('Producción en barriles de petróleo (STB)')\n",
    "plt.ylabel('Compañía operadora')\n",
    "plt.title('Operadoras con mayor producción en el mes de agosto 2019')\n",
    "operadorastop_2019"
   ]
  },
  {
   "cell_type": "code",
   "execution_count": 7,
   "metadata": {},
   "outputs": [
    {
     "name": "stdout",
     "output_type": "stream",
     "text": [
      "58.11 %\n"
     ]
    }
   ],
   "source": [
    "print(round(473986.41*100/operadorastop_2019[\"Produccion\"].sum(), 2), '%') # Producción de Ecopetrol"
   ]
  },
  {
   "cell_type": "markdown",
   "metadata": {},
   "source": [
    "<strong>Respuesta: </strong> A partir del resultado podemos observar que Ecopetrol fue la compañía que más recogió producción de petróleo durante el mes de agosto de 2019, esta producción reportada corresponde con el 58.11 % de la producción reportada por **este top 10** de empresas operadoras, con cerca de los 480.000 barriles de petróleo."
   ]
  },
  {
   "cell_type": "markdown",
   "metadata": {},
   "source": [
    "-----"
   ]
  },
  {
   "cell_type": "markdown",
   "metadata": {},
   "source": [
    "<strong>Pregunta 5:</strong> Realice un análisis comparativo de la producción de los dos primeros trimestres de los años 2019 y 2020. Trimestres: Enero a Marzo, Abril a Junio"
   ]
  },
  {
   "cell_type": "code",
   "execution_count": 8,
   "metadata": {},
   "outputs": [
    {
     "data": {
      "text/html": [
       "<div>\n",
       "<style scoped>\n",
       "    .dataframe tbody tr th:only-of-type {\n",
       "        vertical-align: middle;\n",
       "    }\n",
       "\n",
       "    .dataframe tbody tr th {\n",
       "        vertical-align: top;\n",
       "    }\n",
       "\n",
       "    .dataframe thead th {\n",
       "        text-align: right;\n",
       "    }\n",
       "</style>\n",
       "<table border=\"1\" class=\"dataframe\">\n",
       "  <thead>\n",
       "    <tr style=\"text-align: right;\">\n",
       "      <th></th>\n",
       "      <th>Produccion</th>\n",
       "      <th>Año</th>\n",
       "      <th>Trimestre</th>\n",
       "    </tr>\n",
       "  </thead>\n",
       "  <tbody>\n",
       "    <tr>\n",
       "      <th>1</th>\n",
       "      <td>2676538.43</td>\n",
       "      <td>2019</td>\n",
       "      <td>1</td>\n",
       "    </tr>\n",
       "    <tr>\n",
       "      <th>2</th>\n",
       "      <td>2677717.45</td>\n",
       "      <td>2019</td>\n",
       "      <td>2</td>\n",
       "    </tr>\n",
       "    <tr>\n",
       "      <th>3</th>\n",
       "      <td>2619416.71</td>\n",
       "      <td>2020</td>\n",
       "      <td>1</td>\n",
       "    </tr>\n",
       "    <tr>\n",
       "      <th>4</th>\n",
       "      <td>2258345.28</td>\n",
       "      <td>2020</td>\n",
       "      <td>2</td>\n",
       "    </tr>\n",
       "  </tbody>\n",
       "</table>\n",
       "</div>"
      ],
      "text/plain": [
       "   Produccion   Año  Trimestre\n",
       "1  2676538.43  2019          1\n",
       "2  2677717.45  2019          2\n",
       "3  2619416.71  2020          1\n",
       "4  2258345.28  2020          2"
      ]
     },
     "execution_count": 8,
     "metadata": {},
     "output_type": "execute_result"
    }
   ],
   "source": [
    "query4 = \"SELECT sum(Produccion) as Produccion, Año, (CASE\\\n",
    "                                         WHEN Mes IN ('Enero', 'Febrero','Marzo') THEN 1\\\n",
    "                                         WHEN Mes IN ('Abril', 'Mayo','Junio') THEN 2\\\n",
    "                                         END) as Trimestre\\\n",
    "                        FROM TablaProduccion\\\n",
    "                        WHERE Año IN (2019, 2020)\\\n",
    "                        GROUP BY Año, Trimestre HAVING Trimestre IN (1,2)\"\n",
    "\n",
    "trimestre =  pd.read_sql_query(query4, cnx).reset_index(drop=True)\n",
    "trimestre.index = trimestre.index +1\n",
    "\n",
    "trimestre"
   ]
  },
  {
   "cell_type": "markdown",
   "metadata": {},
   "source": [
    "<strong>Respuesta: </strong> A partir de estos datos es posible realizar diferentes comparaciones. Primero, de acuerdo con la tabla mostrada en la parte superior, es posible ver que la producción durante los dos primeros semsetres del año 2019 fue superior comparada con el año 2020 en los mismos meses. Segundo, comparando cada trimestre en los ambos años, es posible reconocer que cada uno del 2019 fue superior en comparación con el 2020 (i.e. el primer trimestre del año 2019 tuvo más producción que el primer trimestre del 2020, igual que el segundo). "
   ]
  },
  {
   "cell_type": "code",
   "execution_count": 9,
   "metadata": {},
   "outputs": [
    {
     "data": {
      "text/plain": [
       "<matplotlib.legend.Legend at 0x2920aa3ffa0>"
      ]
     },
     "execution_count": 9,
     "metadata": {},
     "output_type": "execute_result"
    },
    {
     "data": {
      "image/png": "[encoded data removed]",
      "text/plain": [
       "<Figure size 432x288 with 1 Axes>"
      ]
     },
     "metadata": {
      "needs_background": "light"
     },
     "output_type": "display_data"
    }
   ],
   "source": [
    "query5 = \"SELECT sum(Produccion) as Produccion, Año, Mes FROM TablaProduccion\\\n",
    "                WHERE Año IN (2019, 2020)\\\n",
    "                    AND Mes IN ('Enero', 'Febrero', 'Marzo', 'Abril', 'Junio')\\\n",
    "                GROUP BY Año, Mes\"\n",
    "\n",
    "\n",
    "months = {\"Enero\":1, \"Febrero\":2, \"Marzo\":3, \"Abril\":4, \"Mayo\":5, \"Junio\":6}\n",
    "\n",
    "trim2 =  pd.read_sql_query(query5, cnx).reset_index(drop=True)\n",
    "trim2.index = trim2.index +1\n",
    "trim2[\"Mes\"] = trim2[\"Mes\"].replace(months)\n",
    "\n",
    "trim2 = trim2.groupby([\"Año\",\"Mes\"]).sum().reset_index()\n",
    "\n",
    "data2019 = trim2[trim2[\"Año\"].apply(lambda x: x==2019)]\n",
    "data2020 = trim2[trim2[\"Año\"].apply(lambda x: x==2020)]\n",
    "\n",
    "    \n",
    "plt.figure()\n",
    "plt.plot(data2019[\"Mes\"], data2019[\"Produccion\"], c='r', label = '2019')\n",
    "plt.plot(data2020[\"Mes\"], data2020[\"Produccion\"], c='g', label = '2020')\n",
    "plt.xlabel('Mes')\n",
    "plt.ylabel('Producción en barriles de petróleo')\n",
    "plt.title('Producción de petróleo durante el primer semestre de 2019 y 2020')\n",
    "plt.legend()"
   ]
  },
  {
   "cell_type": "markdown",
   "metadata": {},
   "source": [
    "La gráfica aquí representada da una imagen que apoya lo mencionado anteriormente, se puede apreciar que durante este periodo de tiempo (primer semestre de cada año) la producción en el 2019 fue siempre superior en comparación con la del 2020. Adicionalmente, notamos como a partir de Marzo (mes 3) la producción disminuye de manera abrupta y con una mayor pendiente; esto va directamente asociado con la situación actual en Colombia y el mundo, que debido a la propagación del Covid-19 se vio muy afectada la industria de hidrocarburos en Colombia. Por esto, durante el 2020 se tiene una notoria reducción en la producción de petróleo, dado el paro de actividades extractivas por cierre/suspensión de operaciones en los diferentes campos del país."
   ]
  },
  {
   "cell_type": "markdown",
   "metadata": {},
   "source": [
    "-------"
   ]
  }
 ],
 "metadata": {
  "kernelspec": {
   "display_name": "Python 3",
   "language": "python",
   "name": "python3"
  },
  "language_info": {
   "codemirror_mode": {
    "name": "ipython",
    "version": 3
   },
   "file_extension": ".py",
   "mimetype": "text/x-python",
   "name": "python",
   "nbconvert_exporter": "python",
   "pygments_lexer": "ipython3",
   "version": "3.8.3"
  }
 },
 "nbformat": 4,
 "nbformat_minor": 4
}
